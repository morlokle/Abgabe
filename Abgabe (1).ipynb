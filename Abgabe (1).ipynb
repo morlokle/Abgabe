{
 "cells": [
  {
   "cell_type": "markdown",
   "id": "5c5bf185",
   "metadata": {},
   "source": [
    "# Projektabgabe\n",
    "### Gruppe L: Energieeffizienz in Staubsaugern"
   ]
  },
  {
   "cell_type": "markdown",
   "id": "f9296400",
   "metadata": {},
   "source": [
    "**Nils Keller, Max Pazda, Simon Kammerer, Lennart Morlok**"
   ]
  },
  {
   "cell_type": "code",
   "execution_count": 266,
   "id": "07ca0a62",
   "metadata": {},
   "outputs": [
    {
     "name": "stdout",
     "output_type": "stream",
     "text": [
      "Versionen der verwendeten python-Module: \n",
      "os <module 'os' from '/opt/conda/lib/python3.9/os.py'>\n",
      "locale <module 'locale' from '/opt/conda/lib/python3.9/locale.py'>\n",
      "numpy 1.22.3\n",
      "matplotlib 3.5.1\n",
      "pandas 1.4.2\n",
      "datetime <module 'datetime' from '/opt/conda/lib/python3.9/datetime.py'>\n",
      "seaborn 0.11.2\n",
      "find_executable <function find_executable at 0x7f7a7be8bc10>\n",
      "cycler <function cycler at 0x7f7a7d3a4a60>\n"
     ]
    }
   ],
   "source": [
    "#Module importieren\n",
    "import numpy as np\n",
    "import matplotlib\n",
    "import matplotlib.pyplot as plt\n",
    "from matplotlib import rcParams\n",
    "import pandas as pd\n",
    "import datetime as dt\n",
    "import seaborn as sns\n",
    "from distutils.spawn import find_executable\n",
    "from cycler import cycler\n",
    "from collections.abc import Iterable\n",
    "import matplotlib\n",
    "import matplotlib.pyplot as plt\n",
    "import pandas as pd\n",
    "import datetime as dt\n",
    "import os\n",
    "import matplotlib.dates as mdates\n",
    "import locale\n",
    "from distutils.spawn import find_executable\n",
    "\n",
    "\n",
    "print('Versionen der verwendeten python-Module: ')\n",
    "print('os', os)\n",
    "print('locale', locale)\n",
    "print('numpy', np.__version__)\n",
    "print('matplotlib', matplotlib.__version__)\n",
    "print('pandas', pd.__version__)\n",
    "print('datetime', dt)\n",
    "print('seaborn', sns.__version__)\n",
    "print('find_executable',find_executable)\n",
    "print('cycler',cycler)"
   ]
  },
  {
   "cell_type": "code",
   "execution_count": 267,
   "id": "2b4a87cc",
   "metadata": {},
   "outputs": [
    {
     "name": "stdout",
     "output_type": "stream",
     "text": [
      "Requirement already satisfied: scikit-learn in /opt/conda/lib/python3.9/site-packages (1.1.3)\n",
      "Requirement already satisfied: numpy>=1.17.3 in /opt/conda/lib/python3.9/site-packages (from scikit-learn) (1.22.3)\n",
      "Requirement already satisfied: joblib>=1.0.0 in /opt/conda/lib/python3.9/site-packages (from scikit-learn) (1.2.0)\n",
      "Requirement already satisfied: scipy>=1.3.2 in /opt/conda/lib/python3.9/site-packages (from scikit-learn) (1.8.0)\n",
      "Requirement already satisfied: threadpoolctl>=2.0.0 in /opt/conda/lib/python3.9/site-packages (from scikit-learn) (3.1.0)\n",
      "\u001b[33mWARNING: You are using pip version 22.0.4; however, version 22.3.1 is available.\n",
      "You should consider upgrading via the '/opt/conda/bin/python -m pip install --upgrade pip' command.\u001b[0m\u001b[33m\n",
      "\u001b[0m"
     ]
    }
   ],
   "source": [
    "#da das Modul: sklearn einen error bereitet hat habe ich es über pip install heruntergeladen\n",
    "!pip install -U scikit-learn"
   ]
  },
  {
   "cell_type": "code",
   "execution_count": 268,
   "id": "0ad8f0b2",
   "metadata": {},
   "outputs": [],
   "source": [
    "plt.rcParams['savefig.dpi'] = 75\n",
    "plt.rcParams['figure.autolayout'] = False\n",
    "plt.rcParams['figure.figsize'] = 10, 6\n",
    "plt.rcParams['axes.labelsize'] = 18\n",
    "plt.rcParams['axes.titlesize'] = 20\n",
    "plt.rcParams['font.size'] = 18\n",
    "plt.rcParams['lines.linewidth'] = 2.0\n",
    "plt.rcParams['lines.markersize'] = 8\n",
    "plt.rcParams['legend.fontsize'] = 18\n",
    "locale.setlocale(locale.LC_ALL, '')\n",
    "plt.rcParams['xtick.labelsize'] = 16\n",
    "plt.rcParams['ytick.labelsize'] = 16\n",
    "\n",
    "if find_executable('latex'):\n",
    "    plt.rcParams['text.usetex'] = True\n",
    "    pd.set_option('display.latex.repr', True)\n",
    "    pd.set_option('display.latex.longtable', True)"
   ]
  },
  {
   "cell_type": "code",
   "execution_count": null,
   "id": "6e1aed90",
   "metadata": {},
   "outputs": [],
   "source": [
    "# Zum Bild einfügen\n",
    "#<img src=\"https://github.com/morlokle/Abgabe/blob/main/Milestone_F2.jpg?raw=true\" width=\"700\"/>"
   ]
  },
  {
   "cell_type": "code",
   "execution_count": null,
   "id": "49dff78a",
   "metadata": {},
   "outputs": [],
   "source": []
  },
  {
   "cell_type": "code",
   "execution_count": null,
   "id": "1cc01655",
   "metadata": {},
   "outputs": [],
   "source": []
  },
  {
   "cell_type": "markdown",
   "id": "38eacb69",
   "metadata": {},
   "source": [
    "## Verbrauchsanalyse und Erzeugungsanalyse"
   ]
  },
  {
   "cell_type": "markdown",
   "id": "ae8f21a4",
   "metadata": {},
   "source": [
    "## Verbrauchsdaten\n",
    "- Quelle zu den Verbrauchsdaten: Standardlastprofil eines Einfamilienhauses der Stadtwerke Hilden in 2022 https://stadtwerke-hilden.de/netze/netzregulierung/strom/standardlastprofile.html"
   ]
  },
  {
   "cell_type": "code",
   "execution_count": 330,
   "id": "bfbe9bee",
   "metadata": {},
   "outputs": [],
   "source": [
    "verbrauch1 = 'https://raw.githubusercontent.com/morlokle/Abgabe/main/Lastprofil_Haushalt.csv'\n",
    "verbrauch1 = pd.read_csv(verbrauch1,delimiter = ';', decimal=',')"
   ]
  },
  {
   "cell_type": "code",
   "execution_count": 331,
   "id": "21b88b28",
   "metadata": {},
   "outputs": [],
   "source": [
    "# da Datum als object erkannt wird konvertierung zu datetime\n",
    "verbrauch1['Datum'] = verbrauch1['Datum'].apply(#\n",
    "    lambda x: #\n",
    "    dt.datetime.strptime(x, \"%d.%m.%Y %H:%M\"))"
   ]
  },
  {
   "cell_type": "code",
   "execution_count": 332,
   "id": "f2153714",
   "metadata": {},
   "outputs": [
    {
     "data": {
      "text/html": [
       "<div>\n",
       "<style scoped>\n",
       "    .dataframe tbody tr th:only-of-type {\n",
       "        vertical-align: middle;\n",
       "    }\n",
       "\n",
       "    .dataframe tbody tr th {\n",
       "        vertical-align: top;\n",
       "    }\n",
       "\n",
       "    .dataframe thead th {\n",
       "        text-align: right;\n",
       "    }\n",
       "</style>\n",
       "<table border=\"1\" class=\"dataframe\">\n",
       "  <thead>\n",
       "    <tr style=\"text-align: right;\">\n",
       "      <th></th>\n",
       "      <th>Datum</th>\n",
       "      <th>Leistung [Watt]</th>\n",
       "    </tr>\n",
       "  </thead>\n",
       "  <tbody>\n",
       "    <tr>\n",
       "      <th>0</th>\n",
       "      <td>2022-01-01 00:15:00</td>\n",
       "      <td>104.636</td>\n",
       "    </tr>\n",
       "    <tr>\n",
       "      <th>1</th>\n",
       "      <td>2022-01-01 00:30:00</td>\n",
       "      <td>96.775</td>\n",
       "    </tr>\n",
       "    <tr>\n",
       "      <th>2</th>\n",
       "      <td>2022-01-01 00:45:00</td>\n",
       "      <td>88.483</td>\n",
       "    </tr>\n",
       "    <tr>\n",
       "      <th>3</th>\n",
       "      <td>2022-01-01 01:00:00</td>\n",
       "      <td>82.117</td>\n",
       "    </tr>\n",
       "    <tr>\n",
       "      <th>4</th>\n",
       "      <td>2022-01-01 01:15:00</td>\n",
       "      <td>76.464</td>\n",
       "    </tr>\n",
       "  </tbody>\n",
       "</table>\n",
       "</div>"
      ],
      "text/plain": [
       "                Datum  Leistung [Watt]\n",
       "0 2022-01-01 00:15:00          104.636\n",
       "1 2022-01-01 00:30:00           96.775\n",
       "2 2022-01-01 00:45:00           88.483\n",
       "3 2022-01-01 01:00:00           82.117\n",
       "4 2022-01-01 01:15:00           76.464"
      ]
     },
     "execution_count": 332,
     "metadata": {},
     "output_type": "execute_result"
    }
   ],
   "source": [
    "#Hier werden die ersten 5 Zeilen der Verbrauchsdaten in einer Tabelle angezeigt\n",
    "verbrauch1.head() "
   ]
  },
  {
   "cell_type": "markdown",
   "id": "3af00bb4",
   "metadata": {},
   "source": [
    "**Kommentar zu den Verbrauchsdaten:** \n",
    "- Die Verbrauchsdaten stellen ein Standartlastprofil (SLP) der Stadtwerke Hilden dar, welche den Stromlastgang eines Einfamilienhauses über das Jahr 2022 simuliert ausgeben. Das SLP hat einen Jahresverbrauch von 1.000.000 kWh im Jahr. Die ersten angezeigten 5 Daten erscheinen uns plausibel und sind erwartungsgemäß, wenn davon ausgegangen wird, dass die Familien die in Einfamilienhäuser in Hilden bewohnen, vermehrt Silvester in dieses Jahr zuhause feiern und somit der Stromverbrauch zu dieser Zeit um 0 Uhr etwas höher ist. "
   ]
  },
  {
   "cell_type": "code",
   "execution_count": 333,
   "id": "fbfc9015",
   "metadata": {},
   "outputs": [],
   "source": [
    "#Aufbereitung der Standartlast auf ein Einfamilienhaus mit 3-Personen\n",
    "verbrauch1['Leistung [Watt]'] =verbrauch1['Leistung [Watt]']*1000000**-1*3500"
   ]
  },
  {
   "cell_type": "code",
   "execution_count": 334,
   "id": "8af96451",
   "metadata": {},
   "outputs": [
    {
     "data": {
      "text/plain": [
       "3500.0000927499996"
      ]
     },
     "execution_count": 334,
     "metadata": {},
     "output_type": "execute_result"
    }
   ],
   "source": [
    "# Da wir viertelstündliche Werte haben wird die Summe durch 4 geteilt um zu prüfen ob Aufbereitung geklappt hat\n",
    "verbrauch1['Leistung [Watt]'].sum()/4"
   ]
  },
  {
   "cell_type": "markdown",
   "id": "d0ab1ca0",
   "metadata": {},
   "source": [
    "**Kommentar zur Aufbereitung der Verbrauchsdaten:** \n",
    "- Da das SLP einen simulierten Jahresverbrauch von 1.000.000 kWh im Jahr hat werden die Daten für unser Beispiel aufbereitet. Wir gehen in unserem Beispiel von einem 3-Personen-Haushalt aus, welcher einen Stromverbrauch von 3500 kWh im Jahr hat. Auf diesen Verbrauch werden die Werte angeglichen auf diesen Verbrauch."
   ]
  },
  {
   "cell_type": "code",
   "execution_count": 335,
   "id": "3e30219f",
   "metadata": {},
   "outputs": [
    {
     "data": {
      "text/plain": [
       "Datum              2023-01-01 00:00:00\n",
       "Leistung [Watt]               0.797825\n",
       "dtype: object"
      ]
     },
     "execution_count": 335,
     "metadata": {},
     "output_type": "execute_result"
    }
   ],
   "source": [
    "#Hier werden die maximalen Werte der Verbrauchsdaten angezeigt\n",
    "verbrauch1.max()"
   ]
  },
  {
   "cell_type": "markdown",
   "id": "0b5a2351",
   "metadata": {},
   "source": [
    "**Kommentar Daten des maximalen Werts der Verbrauchsdaten:**\n",
    "- Bei dieser Anzeige muss beachtet werden das für beide Zeilen der maximale Wert angezeigt wird und diese nicht direkt zusammenhängen. In Fall des Datum wurde der höchste Wert, also angefangen mit dem Jahr 2023 der Wert \"2023-01-01\" verwedet da er beginnend mit dem Jahr zahlenmäßig der höchste ist. Im Fall des Verbrauches wurde mit 227.95 Watt mit hoher Sicherheit ein Tag aus dem Winer verwendet, an dem der Verbrauch besonders hoch war. (Mehr Strombedarf im Winter z.B. Mehr Licht, Wärmebedarf höher, Personen öfter im Haus wegen Kälte/Sonnenuntergang)"
   ]
  },
  {
   "cell_type": "markdown",
   "id": "74c56733",
   "metadata": {},
   "source": [
    "## Erzeugungsdaten\n",
    "- Quelle zu den Erzeugungsdaten: Michael Brod, Gemessene Daten einer PV-Hausanlage 2011: Messdaten in 15-Minuten-Auflösung. (Die Anlage hat 4,51 kWp, Dachneigung 30 °, Abweichung von Süden 40° nach Westen, Standort 61476 Kronberg im Taunus) https://www.100pro-erneuerbare.com/messdaten/messdaten.htm"
   ]
  },
  {
   "cell_type": "code",
   "execution_count": 324,
   "id": "9ef24093",
   "metadata": {},
   "outputs": [],
   "source": [
    "erzeugung1 = 'https://raw.githubusercontent.com/morlokle/Abgabe/main/Erzeugungsdaten%20-%20Kopie.csv'\n",
    "erzeugung1 = pd.read_csv(erzeugung1,delimiter = ';', decimal=',')"
   ]
  },
  {
   "cell_type": "code",
   "execution_count": null,
   "id": "ae8b159e",
   "metadata": {},
   "outputs": [],
   "source": [
    "# da Datum als object erkannt wird konvertierung zu datetime\n",
    "erzeugung1['Datum'] = erzeugung1.Datum.apply(#\n",
    "    lambda x: #\n",
    "    dt.datetime.strptime(x, \"%d.%m.%Y %H:%M\"))"
   ]
  },
  {
   "cell_type": "code",
   "execution_count": 327,
   "id": "d8f8e675",
   "metadata": {},
   "outputs": [
    {
     "data": {
      "text/html": [
       "<div>\n",
       "<style scoped>\n",
       "    .dataframe tbody tr th:only-of-type {\n",
       "        vertical-align: middle;\n",
       "    }\n",
       "\n",
       "    .dataframe tbody tr th {\n",
       "        vertical-align: top;\n",
       "    }\n",
       "\n",
       "    .dataframe thead th {\n",
       "        text-align: right;\n",
       "    }\n",
       "</style>\n",
       "<table border=\"1\" class=\"dataframe\">\n",
       "  <thead>\n",
       "    <tr style=\"text-align: right;\">\n",
       "      <th></th>\n",
       "      <th>Datum</th>\n",
       "      <th>PV[Watt]</th>\n",
       "    </tr>\n",
       "  </thead>\n",
       "  <tbody>\n",
       "    <tr>\n",
       "      <th>0</th>\n",
       "      <td>2011-01-01 00:00:00</td>\n",
       "      <td>0</td>\n",
       "    </tr>\n",
       "    <tr>\n",
       "      <th>1</th>\n",
       "      <td>2011-01-01 00:15:00</td>\n",
       "      <td>0</td>\n",
       "    </tr>\n",
       "    <tr>\n",
       "      <th>2</th>\n",
       "      <td>2011-01-01 00:30:00</td>\n",
       "      <td>0</td>\n",
       "    </tr>\n",
       "    <tr>\n",
       "      <th>3</th>\n",
       "      <td>2011-01-01 00:45:00</td>\n",
       "      <td>0</td>\n",
       "    </tr>\n",
       "    <tr>\n",
       "      <th>4</th>\n",
       "      <td>2011-01-01 01:00:00</td>\n",
       "      <td>0</td>\n",
       "    </tr>\n",
       "  </tbody>\n",
       "</table>\n",
       "</div>"
      ],
      "text/plain": [
       "                Datum  PV[Watt]\n",
       "0 2011-01-01 00:00:00         0\n",
       "1 2011-01-01 00:15:00         0\n",
       "2 2011-01-01 00:30:00         0\n",
       "3 2011-01-01 00:45:00         0\n",
       "4 2011-01-01 01:00:00         0"
      ]
     },
     "execution_count": 327,
     "metadata": {},
     "output_type": "execute_result"
    }
   ],
   "source": [
    "#Hier werden die ersten 5 Zeilen der Erzeugungsdaten in einer Tabelle angezeigt\n",
    "erzeugung1.head()"
   ]
  },
  {
   "cell_type": "markdown",
   "id": "c833f38b",
   "metadata": {},
   "source": [
    "**Kommentar zu dem Erzeugungsdaten:**\n",
    "- Die angezeigten 5 Zeilen des Datensatzes zeigen die Erzeugung einer PV-Anlage über ein Jahr in 15 minütiger Auflösung beginnend mit den 01.01.2011 (über das Jahr 2011). Da in der Nacht keine Sonne scheint sind die Werte plausibel und erwartungsgemäß. (Bis auf Feuerwerksraketen sollte keine Einstrahlung auf die Dächer treffen ;) )"
   ]
  },
  {
   "cell_type": "code",
   "execution_count": 209,
   "id": "b3eaa621",
   "metadata": {},
   "outputs": [
    {
     "data": {
      "text/plain": [
       "Datum        2011-12-31 23:45:00\n",
       "PV[Watt]                    4000\n",
       "Erzeugung               19764548\n",
       "dtype: object"
      ]
     },
     "execution_count": 209,
     "metadata": {},
     "output_type": "execute_result"
    }
   ],
   "source": [
    "#Hier werden die maximalen Werte der Erzeugungsdaten angezeigt\n",
    "erzeugung1.max()"
   ]
  },
  {
   "cell_type": "markdown",
   "id": "26efd8cf",
   "metadata": {},
   "source": [
    "**Kommentar Daten des maximalen Werts der Erzeugungsdaten:** \n",
    "- Auch bei dieser Anzeige muss beachtet werden das für beide Zeilen der maximale Wert angezeigt wird und diese nicht direkt zusammenhängen. In Fall des Datum wurde der höchste Wert, also der 31.12.2022 um 23:45 Uhr verwedet da er zahlenmäßig der höchste ist. Im Fall der PV Leistung wurde mit 4000 Watt mit hoher Sicherheit ein Tag aus dem Sommer verwendet, welcher von der Auslegung des Wechselrichters auf 4 kW beschränkt ist und deswegen der höchste Wert bei Vollast auch bei 4000 Watt liegt."
   ]
  },
  {
   "cell_type": "markdown",
   "id": "5ab23cf6",
   "metadata": {},
   "source": [
    "### Darstellung des Jahresverlaufs des Verbrauchs und der Erzeugung über der Zeit"
   ]
  },
  {
   "cell_type": "code",
   "execution_count": 337,
   "id": "a502f2b0",
   "metadata": {},
   "outputs": [
    {
     "data": {
      "text/plain": [
       "<Figure size 720x432 with 0 Axes>"
      ]
     },
     "execution_count": 337,
     "metadata": {},
     "output_type": "execute_result"
    },
    {
     "data": {
      "image/png": "[encoded data removed]",
      "text/plain": [
       "<Figure size 720x432 with 1 Axes>"
      ]
     },
     "metadata": {
      "needs_background": "light"
     },
     "output_type": "display_data"
    },
    {
     "data": {
      "text/plain": [
       "<Figure size 720x432 with 0 Axes>"
      ]
     },
     "metadata": {},
     "output_type": "display_data"
    }
   ],
   "source": [
    "# Darstellung des Jahresverlaufs des Verbrauchs über der Zeit\n",
    "verbrauch1.plot(x = 'Datum', y = 'Leistung [Watt]', c=\"green\")\n",
    "plt.title(' Darstellung des Jahresverlaufs des Verbrauchs über Zeit')\n",
    "plt.xlabel('Zeit')\n",
    "plt.ylabel('Leistung [kW]')\n",
    "plt.grid()\n",
    "plt.figure()"
   ]
  },
  {
   "cell_type": "code",
   "execution_count": 338,
   "id": "d712a801",
   "metadata": {},
   "outputs": [
    {
     "data": {
      "text/plain": [
       "<Figure size 720x432 with 0 Axes>"
      ]
     },
     "execution_count": 338,
     "metadata": {},
     "output_type": "execute_result"
    },
    {
     "data": {
      "image/png": "[encoded data removed]",
      "text/plain": [
       "<Figure size 720x432 with 1 Axes>"
      ]
     },
     "metadata": {
      "needs_background": "light"
     },
     "output_type": "display_data"
    },
    {
     "data": {
      "text/plain": [
       "<Figure size 720x432 with 0 Axes>"
      ]
     },
     "metadata": {},
     "output_type": "display_data"
    }
   ],
   "source": [
    "# Darstellung des Jahresverlaufs der Erzeugung über der Zeit\n",
    "erzeugung1.plot(x = 'Datum', y = 'PV[Watt]')\n",
    "plt.title(' Darstellung des Jahresverlaufs der Erzeugung über der Zeit')\n",
    "plt.xlabel('Zeit')\n",
    "plt.ylabel('Leistung [W]')\n",
    "plt.grid()\n",
    "plt.figure()"
   ]
  },
  {
   "cell_type": "markdown",
   "id": "7b24ae44",
   "metadata": {},
   "source": [
    "### Darstellung der Dauerlinien"
   ]
  },
  {
   "cell_type": "code",
   "execution_count": 357,
   "id": "965a1a58",
   "metadata": {},
   "outputs": [],
   "source": [
    "#res = erzeugung1['Datum'][1]-erzeugung1['Datum'][0]\n",
    "#print('Auflösung '+str(res))"
   ]
  },
  {
   "cell_type": "code",
   "execution_count": 358,
   "id": "ac74ba10",
   "metadata": {},
   "outputs": [],
   "source": [
    "#dW = 1000*60*60 # kWh in J\n",
    "#dt = 15*60 # 15 min. in sec\n",
    "#dW_dt_faktor = dW/dt\n",
    "#print('Umrechnungsfaktor zu W ist ' + str(dW_dt_faktor))"
   ]
  },
  {
   "cell_type": "code",
   "execution_count": 359,
   "id": "4aaf8f18",
   "metadata": {},
   "outputs": [],
   "source": [
    "#erzeugung1['industrialP'] = dW_dt_faktor*0.001*erzeugung1['PV[Watt]']"
   ]
  },
  {
   "cell_type": "code",
   "execution_count": 360,
   "id": "d4ee4993",
   "metadata": {},
   "outputs": [],
   "source": [
    "#erzeugung1.head()"
   ]
  },
  {
   "cell_type": "code",
   "execution_count": 361,
   "id": "9e0d81f4",
   "metadata": {},
   "outputs": [],
   "source": [
    "#df2 = erzeugung1.dropna(subset=['zeit','industrialP'])"
   ]
  },
  {
   "cell_type": "markdown",
   "id": "cc06d1b8",
   "metadata": {},
   "source": [
    "### Verbrauch"
   ]
  },
  {
   "cell_type": "code",
   "execution_count": 368,
   "id": "29f5d6a6",
   "metadata": {},
   "outputs": [],
   "source": [
    "sorted_1 = sorted(verbrauch1['Leistung [Watt]'], reverse = True)"
   ]
  },
  {
   "cell_type": "code",
   "execution_count": 370,
   "id": "a6e251be",
   "metadata": {},
   "outputs": [
    {
     "data": {
      "image/png": "[encoded data removed]",
      "text/plain": [
       "<Figure size 648x432 with 1 Axes>"
      ]
     },
     "metadata": {
      "needs_background": "light"
     },
     "output_type": "display_data"
    }
   ],
   "source": [
    "plt.figure(figsize=(9,6))\n",
    "plt.plot(verbrauch1.index-verbrauch1.index[0],sorted_1)\n",
    "plt.ylabel('Verbrauchte Leistung [kW]')\n",
    "plt.xlabel('Anzahl Minuten')\n",
    "plt.grid()\n",
    "plt.show()"
   ]
  },
  {
   "cell_type": "markdown",
   "id": "0a862cac",
   "metadata": {},
   "source": [
    "### Erzeugung"
   ]
  },
  {
   "cell_type": "code",
   "execution_count": 364,
   "id": "036ade1b",
   "metadata": {},
   "outputs": [],
   "source": [
    "sorted_2 = sorted(erzeugung1['PV[Watt]'], reverse = True)"
   ]
  },
  {
   "cell_type": "code",
   "execution_count": 365,
   "id": "791a3f2d",
   "metadata": {},
   "outputs": [
    {
     "data": {
      "image/png": "[encoded data removed]",
      "text/plain": [
       "<Figure size 648x432 with 1 Axes>"
      ]
     },
     "metadata": {
      "needs_background": "light"
     },
     "output_type": "display_data"
    }
   ],
   "source": [
    "plt.figure(figsize=(9,6))\n",
    "plt.plot(erzeugung1.index-erzeugung1.index[0],sorted_2)\n",
    "plt.ylabel('Erzeugte Leistung [kW]')\n",
    "plt.xlabel('Anzahl Minuten')\n",
    "plt.grid()\n",
    "plt.show()"
   ]
  },
  {
   "cell_type": "markdown",
   "id": "c4a3f2e9",
   "metadata": {},
   "source": [
    "### Darstellung des Taganteils gegenüber dem Nachtanteil"
   ]
  },
  {
   "cell_type": "code",
   "execution_count": null,
   "id": "005aaadb",
   "metadata": {},
   "outputs": [],
   "source": []
  },
  {
   "cell_type": "code",
   "execution_count": null,
   "id": "77da6fe4",
   "metadata": {},
   "outputs": [],
   "source": []
  },
  {
   "cell_type": "markdown",
   "id": "db2f6e05",
   "metadata": {},
   "source": [
    "### Darstellung des Sommeranteils gegenüber dem Winteranteil"
   ]
  },
  {
   "cell_type": "code",
   "execution_count": 230,
   "id": "636a593a",
   "metadata": {},
   "outputs": [],
   "source": [
    "# Sommer: In 2011 Kalendarisch von Dienstag, 21. Juni bis Freitag, 23. September\n",
    "# Winter: Annahme In 2011 Kalendarisch von Samstag 01. Januar bis 21. März 2011 (theoretisch + 22.12.10-31.12.10)"
   ]
  },
  {
   "cell_type": "markdown",
   "id": "e921a2d1",
   "metadata": {},
   "source": [
    "### Verbrauch"
   ]
  },
  {
   "cell_type": "code",
   "execution_count": null,
   "id": "d8931004",
   "metadata": {},
   "outputs": [],
   "source": [
    "verbrauch1.set_index('Datum', inplace = True)"
   ]
  },
  {
   "cell_type": "code",
   "execution_count": null,
   "id": "9f9aa05e",
   "metadata": {},
   "outputs": [],
   "source": [
    "ax = verbrauch1.loc['2011-06-21':'2011-09-23'].plot(y =  ,linestyle='-', figsize=(9,6))\n",
    "plt.ylabel('Leistung [kW]')\n",
    "plt.grid()\n",
    "plt.show()"
   ]
  },
  {
   "cell_type": "code",
   "execution_count": null,
   "id": "1f1b3ad8",
   "metadata": {},
   "outputs": [],
   "source": []
  },
  {
   "cell_type": "markdown",
   "id": "a66ed0c1",
   "metadata": {},
   "source": [
    "### Erzeugung:"
   ]
  },
  {
   "cell_type": "code",
   "execution_count": 232,
   "id": "7285f085",
   "metadata": {},
   "outputs": [],
   "source": [
    "erzeugung1.set_index('Datum', inplace = True)"
   ]
  },
  {
   "cell_type": "code",
   "execution_count": 233,
   "id": "10f172fe",
   "metadata": {},
   "outputs": [
    {
     "ename": "SyntaxError",
     "evalue": "invalid syntax (1024386022.py, line 1)",
     "output_type": "error",
     "traceback": [
      "\u001b[0;36m  File \u001b[0;32m\"/tmp/ipykernel_58/1024386022.py\"\u001b[0;36m, line \u001b[0;32m1\u001b[0m\n\u001b[0;31m    ax = erzeugung1.loc['2011-05-21':'2011-09-23'].plot(y =  ,linestyle='-', figsize=(9,6))\u001b[0m\n\u001b[0m                                                             ^\u001b[0m\n\u001b[0;31mSyntaxError\u001b[0m\u001b[0;31m:\u001b[0m invalid syntax\n"
     ]
    }
   ],
   "source": [
    "ax = erzeugung1.loc['2011-06-21':'2011-09-23'].plot(y =  ,linestyle='-', figsize=(9,6))\n",
    "plt.ylabel('Leistung [kW]')\n",
    "plt.grid()\n",
    "plt.show()"
   ]
  },
  {
   "cell_type": "code",
   "execution_count": 237,
   "id": "34df4db7",
   "metadata": {},
   "outputs": [
    {
     "data": {
      "image/png": "[encoded data removed]",
      "text/plain": [
       "<Figure size 648x432 with 1 Axes>"
      ]
     },
     "metadata": {
      "needs_background": "light"
     },
     "output_type": "display_data"
    }
   ],
   "source": [
    "ax = erzeugung1.loc['2011-01-01':'2011-03-21'].plot(y = 'industrialP',linestyle='-', figsize=(9,6))\n",
    "plt.ylabel('Leistung [kW]')\n",
    "plt.grid()\n",
    "plt.show()"
   ]
  },
  {
   "cell_type": "code",
   "execution_count": null,
   "id": "b1f18eb9",
   "metadata": {},
   "outputs": [],
   "source": []
  },
  {
   "cell_type": "markdown",
   "id": "531fc686",
   "metadata": {},
   "source": [
    "### Übersicht über monatsspezifische Schwankungsbreiten (Boxplot)"
   ]
  },
  {
   "cell_type": "code",
   "execution_count": null,
   "id": "5eb5837f",
   "metadata": {},
   "outputs": [],
   "source": [
    "df2.set_index('Datum', inplace = True)"
   ]
  },
  {
   "cell_type": "code",
   "execution_count": null,
   "id": "a90ec5de",
   "metadata": {},
   "outputs": [],
   "source": [
    "ax = df2.loc['2011-01'].plot(y = 'industrialP',linestyle='-', figsize=(9,6))\n",
    "plt.ylabel('Leistung [kW]')\n",
    "plt.grid()\n",
    "plt.show()"
   ]
  },
  {
   "cell_type": "code",
   "execution_count": null,
   "id": "8ca525be",
   "metadata": {},
   "outputs": [],
   "source": [
    "fig, ax = plt.subplots(figsize=(9,6))\n",
    "ax.plot(df2.loc['2011-01', 'industrialP'], linestyle='-')\n",
    "ax.set_ylabel('Leistung [kW]')\n",
    "ax.set_title('Stromerzugung Januar 2011')\n",
    "ax.xaxis.set_major_locator(mdates.WeekdayLocator(byweekday=mdates.MONDAY))\n",
    "ax.xaxis.set_major_formatter(mdates.DateFormatter('%d.%b'))\n",
    "plt.grid()\n",
    "plt.show()"
   ]
  },
  {
   "cell_type": "code",
   "execution_count": null,
   "id": "ab048769",
   "metadata": {},
   "outputs": [],
   "source": [
    "fig, axes = plt.subplots(2, 1, figsize=(9, 6), sharex=True)\n",
    "\n",
    "for name, ax in zip(['industrialP', 'pvP'], axes):\n",
    "    ax.grid()\n",
    "    sns.boxplot(data=df2, x='Monat', y=name, ax=ax)\n",
    "if ax != axes[-1]:\n",
    "    ax.set_xlabel('')"
   ]
  },
  {
   "cell_type": "markdown",
   "id": "19e07e39",
   "metadata": {},
   "source": [
    "### Heatmap"
   ]
  },
  {
   "cell_type": "code",
   "execution_count": 347,
   "id": "85d94194",
   "metadata": {},
   "outputs": [],
   "source": [
    "#Die folgende Funktion ermöglicht es, die Achsenskalierung besser anzupassen.\n",
    "class AxTransformer:\n",
    "    def __init__(self, datetime_vals=False):\n",
    "        self.datetime_vals = datetime_vals\n",
    "        self.lr = linear_model.LinearRegression()\n",
    "        \n",
    "        return\n",
    "    \n",
    "    def process_tick_vals(self, tick_vals):\n",
    "        if not isinstance(tick_vals, Iterable) or isinstance(tick_vals, str):\n",
    "            tick_vals = [tick_vals]\n",
    "            \n",
    "        if self.datetime_vals == True:\n",
    "            tick_vals = pd.to_datetime(tick_vals).astype(int).values\n",
    "            \n",
    "        tick_vals = np.array(tick_vals)\n",
    "            \n",
    "        return tick_vals\n",
    "    \n",
    "    def fit(self, ax, axis='x'):\n",
    "        axis = getattr(ax, f'get_{axis}axis')()\n",
    "        \n",
    "        tick_locs = axis.get_ticklocs()\n",
    "        tick_vals = self.process_tick_vals([label._text for label in axis.get_ticklabels()])\n",
    "        \n",
    "        self.lr.fit(tick_vals.reshape(-1, 1), tick_locs)\n",
    "        \n",
    "        return\n",
    "    \n",
    "    def transform(self, tick_vals):        \n",
    "        tick_vals = self.process_tick_vals(tick_vals)\n",
    "        tick_locs = self.lr.predict(np.array(tick_vals).reshape(-1, 1))\n",
    "        \n",
    "        return tick_locs\n",
    "    \n",
    "def set_date_ticks(ax, start_date, end_date, axis='y', date_format='%Y-%m-%d', **date_range_kwargs):\n",
    "    dt_rng = pd.date_range(start_date, end_date, **date_range_kwargs)\n",
    "\n",
    "    ax_transformer = AxTransformer(datetime_vals=True)\n",
    "    ax_transformer.fit(ax, axis=axis)\n",
    "    \n",
    "    getattr(ax, f'set_{axis}ticks')(ax_transformer.transform(dt_rng))\n",
    "    getattr(ax, f'set_{axis}ticklabels')(dt_rng.strftime(date_format))\n",
    "\n",
    "    ax.tick_params(axis=axis, which='both', bottom=True, top=False, labelbottom=True)\n",
    "    \n",
    "    return ax"
   ]
  },
  {
   "cell_type": "code",
   "execution_count": null,
   "id": "8380dcff",
   "metadata": {},
   "outputs": [],
   "source": [
    "x = 'Datum', y = 'Leistung [Watt]'\n",
    "x = 'Datum', y = 'PV[Watt]'"
   ]
  },
  {
   "cell_type": "code",
   "execution_count": 351,
   "id": "4e2a14ed",
   "metadata": {},
   "outputs": [],
   "source": [
    "import matplotlib.dates as mdates"
   ]
  },
  {
   "cell_type": "code",
   "execution_count": 353,
   "id": "2b0ff822",
   "metadata": {},
   "outputs": [
    {
     "ename": "AttributeError",
     "evalue": "'RangeIndex' object has no attribute 'date'",
     "output_type": "error",
     "traceback": [
      "\u001b[0;31m---------------------------------------------------------------------------\u001b[0m",
      "\u001b[0;31mAttributeError\u001b[0m                            Traceback (most recent call last)",
      "\u001b[0;32m/tmp/ipykernel_58/1905126123.py\u001b[0m in \u001b[0;36m<module>\u001b[0;34m\u001b[0m\n\u001b[1;32m      1\u001b[0m \u001b[0mhm_df\u001b[0m \u001b[0;34m=\u001b[0m \u001b[0mpd\u001b[0m\u001b[0;34m.\u001b[0m\u001b[0mDataFrame\u001b[0m\u001b[0;34m(\u001b[0m\u001b[0;34m{\u001b[0m\u001b[0;34m'Leistung [Watt]'\u001b[0m\u001b[0;34m:\u001b[0m \u001b[0mverbrauch1\u001b[0m\u001b[0;34m[\u001b[0m\u001b[0;34m'Leistung [Watt]'\u001b[0m\u001b[0;34m]\u001b[0m\u001b[0;34m}\u001b[0m\u001b[0;34m)\u001b[0m\u001b[0;34m\u001b[0m\u001b[0;34m\u001b[0m\u001b[0m\n\u001b[0;32m----> 2\u001b[0;31m \u001b[0mhm_df\u001b[0m\u001b[0;34m[\u001b[0m\u001b[0;34m'date'\u001b[0m\u001b[0;34m]\u001b[0m \u001b[0;34m=\u001b[0m \u001b[0mverbrauch1\u001b[0m\u001b[0;34m.\u001b[0m\u001b[0mindex\u001b[0m\u001b[0;34m.\u001b[0m\u001b[0mdate\u001b[0m\u001b[0;34m\u001b[0m\u001b[0;34m\u001b[0m\u001b[0m\n\u001b[0m\u001b[1;32m      3\u001b[0m \u001b[0mhm_df\u001b[0m\u001b[0;34m[\u001b[0m\u001b[0;34m'time'\u001b[0m\u001b[0;34m]\u001b[0m \u001b[0;34m=\u001b[0m \u001b[0mverbrauch1\u001b[0m\u001b[0;34m.\u001b[0m\u001b[0mindex\u001b[0m\u001b[0;34m.\u001b[0m\u001b[0mtime\u001b[0m\u001b[0;34m\u001b[0m\u001b[0;34m\u001b[0m\u001b[0m\n\u001b[1;32m      4\u001b[0m \u001b[0mhm_piv\u001b[0m \u001b[0;34m=\u001b[0m \u001b[0mhm_df\u001b[0m\u001b[0;34m.\u001b[0m\u001b[0mpivot\u001b[0m\u001b[0;34m(\u001b[0m\u001b[0mindex\u001b[0m \u001b[0;34m=\u001b[0m \u001b[0;34m'time'\u001b[0m\u001b[0;34m,\u001b[0m \u001b[0mcolumns\u001b[0m \u001b[0;34m=\u001b[0m \u001b[0;34m'date'\u001b[0m\u001b[0;34m,\u001b[0m \u001b[0mvalues\u001b[0m \u001b[0;34m=\u001b[0m \u001b[0;34m'Leistung [Watt]'\u001b[0m\u001b[0;34m)\u001b[0m\u001b[0;34m\u001b[0m\u001b[0;34m\u001b[0m\u001b[0m\n\u001b[1;32m      5\u001b[0m \u001b[0mfig\u001b[0m\u001b[0;34m,\u001b[0m \u001b[0max\u001b[0m \u001b[0;34m=\u001b[0m \u001b[0mplt\u001b[0m\u001b[0;34m.\u001b[0m\u001b[0msubplots\u001b[0m\u001b[0;34m(\u001b[0m\u001b[0mfigsize\u001b[0m \u001b[0;34m=\u001b[0m \u001b[0;34m(\u001b[0m\u001b[0;36m10\u001b[0m\u001b[0;34m,\u001b[0m\u001b[0;36m6\u001b[0m\u001b[0;34m)\u001b[0m\u001b[0;34m)\u001b[0m\u001b[0;34m\u001b[0m\u001b[0;34m\u001b[0m\u001b[0m\n",
      "\u001b[0;31mAttributeError\u001b[0m: 'RangeIndex' object has no attribute 'date'"
     ]
    }
   ],
   "source": [
    "hm_df = pd.DataFrame({'Leistung [Watt]': verbrauch1['Leistung [Watt]']})\n",
    "hm_df['date'] = verbrauch1.index.date\n",
    "hm_df['time'] = verbrauch1.index.time\n",
    "hm_piv = hm_df.pivot(index = 'time', columns = 'date', values = 'Leistung [Watt]')\n",
    "fig, ax = plt.subplots(figsize = (10,6))\n",
    "sns.heatmap(hm_piv, cbar_kws={'label': 'Leistung [kW]'})\n",
    "ax.set_title('Leistung [kW] des Stromnetzimports\\n eines Industriebetriebs')\n",
    "set_date_ticks(ax, hm_piv.columns[0], hm_piv.columns[-1] ,axis='x', freq='1M', date_format='%B %Y')\n",
    "ax.tick_params(axis=\"x\", rotation=45)"
   ]
  },
  {
   "cell_type": "code",
   "execution_count": 354,
   "id": "947e7c69",
   "metadata": {},
   "outputs": [
    {
     "ename": "AttributeError",
     "evalue": "'Int64Index' object has no attribute 'date'",
     "output_type": "error",
     "traceback": [
      "\u001b[0;31m---------------------------------------------------------------------------\u001b[0m",
      "\u001b[0;31mAttributeError\u001b[0m                            Traceback (most recent call last)",
      "\u001b[0;32m/tmp/ipykernel_58/634017228.py\u001b[0m in \u001b[0;36m<module>\u001b[0;34m\u001b[0m\n\u001b[1;32m      1\u001b[0m \u001b[0mhm_df\u001b[0m \u001b[0;34m=\u001b[0m \u001b[0mpd\u001b[0m\u001b[0;34m.\u001b[0m\u001b[0mDataFrame\u001b[0m\u001b[0;34m(\u001b[0m\u001b[0;34m{\u001b[0m\u001b[0;34m'PV[Watt]'\u001b[0m\u001b[0;34m:\u001b[0m \u001b[0mdf2\u001b[0m\u001b[0;34m[\u001b[0m\u001b[0;34m'industrialP'\u001b[0m\u001b[0;34m]\u001b[0m\u001b[0;34m}\u001b[0m\u001b[0;34m)\u001b[0m\u001b[0;34m\u001b[0m\u001b[0;34m\u001b[0m\u001b[0m\n\u001b[0;32m----> 2\u001b[0;31m \u001b[0mhm_df\u001b[0m\u001b[0;34m[\u001b[0m\u001b[0;34m'date'\u001b[0m\u001b[0;34m]\u001b[0m \u001b[0;34m=\u001b[0m \u001b[0mdf2\u001b[0m\u001b[0;34m.\u001b[0m\u001b[0mindex\u001b[0m\u001b[0;34m.\u001b[0m\u001b[0mdate\u001b[0m\u001b[0;34m\u001b[0m\u001b[0;34m\u001b[0m\u001b[0m\n\u001b[0m\u001b[1;32m      3\u001b[0m \u001b[0mhm_df\u001b[0m\u001b[0;34m[\u001b[0m\u001b[0;34m'time'\u001b[0m\u001b[0;34m]\u001b[0m \u001b[0;34m=\u001b[0m \u001b[0mdf2\u001b[0m\u001b[0;34m.\u001b[0m\u001b[0mindex\u001b[0m\u001b[0;34m.\u001b[0m\u001b[0mtime\u001b[0m\u001b[0;34m\u001b[0m\u001b[0;34m\u001b[0m\u001b[0m\n\u001b[1;32m      4\u001b[0m \u001b[0mhm_piv\u001b[0m \u001b[0;34m=\u001b[0m \u001b[0mhm_df\u001b[0m\u001b[0;34m.\u001b[0m\u001b[0mpivot\u001b[0m\u001b[0;34m(\u001b[0m\u001b[0mindex\u001b[0m \u001b[0;34m=\u001b[0m \u001b[0;34m'time'\u001b[0m\u001b[0;34m,\u001b[0m \u001b[0mcolumns\u001b[0m \u001b[0;34m=\u001b[0m \u001b[0;34m'date'\u001b[0m\u001b[0;34m,\u001b[0m \u001b[0mvalues\u001b[0m \u001b[0;34m=\u001b[0m \u001b[0;34m'industrialP'\u001b[0m\u001b[0;34m)\u001b[0m\u001b[0;34m\u001b[0m\u001b[0;34m\u001b[0m\u001b[0m\n\u001b[1;32m      5\u001b[0m \u001b[0mfig\u001b[0m\u001b[0;34m,\u001b[0m \u001b[0max\u001b[0m \u001b[0;34m=\u001b[0m \u001b[0mplt\u001b[0m\u001b[0;34m.\u001b[0m\u001b[0msubplots\u001b[0m\u001b[0;34m(\u001b[0m\u001b[0mfigsize\u001b[0m \u001b[0;34m=\u001b[0m \u001b[0;34m(\u001b[0m\u001b[0;36m10\u001b[0m\u001b[0;34m,\u001b[0m\u001b[0;36m6\u001b[0m\u001b[0;34m)\u001b[0m\u001b[0;34m)\u001b[0m\u001b[0;34m\u001b[0m\u001b[0;34m\u001b[0m\u001b[0m\n",
      "\u001b[0;31mAttributeError\u001b[0m: 'Int64Index' object has no attribute 'date'"
     ]
    }
   ],
   "source": [
    "hm_df = pd.DataFrame({'PV[Watt]': df2['PV[Watt]']})\n",
    "hm_df['date'] = df2.index.date\n",
    "hm_df['time'] = df2.index.time\n",
    "hm_piv = hm_df.pivot(index = 'time', columns = 'date', values = 'industrialP')\n",
    "fig, ax = plt.subplots(figsize = (10,6))\n",
    "sns.heatmap(hm_piv, cbar_kws={'label': 'Leistung [kW]'})\n",
    "ax.set_title('Leistung [kW] einer PV-Anlage \\n auf einem Einfamilienhaus in 2011')\n",
    "set_date_ticks(ax, hm_piv.columns[0], hm_piv.columns[-1] ,axis='x', freq='1M', date_format='%B %Y')\n",
    "ax.tick_params(axis=\"x\", rotation=30)"
   ]
  },
  {
   "cell_type": "code",
   "execution_count": null,
   "id": "22fa1cb0",
   "metadata": {},
   "outputs": [],
   "source": [
    "#da sklearn einen error bereitet hat habe ich es über pip install heruntergeladen\n",
    "import sklearn\n",
    "!pip install scikit-learn"
   ]
  },
  {
   "cell_type": "code",
   "execution_count": null,
   "id": "96facfe1",
   "metadata": {},
   "outputs": [],
   "source": [
    "import numpy as np\n",
    "import matplotlib\n",
    "import matplotlib.pyplot as plt\n",
    "from matplotlib import rcParams\n",
    "import pandas as pd\n",
    "import datetime as dt\n",
    "import seaborn as sns\n",
    "from distutils.spawn import find_executable\n",
    "from cycler import cycler\n",
    "from collections.abc import Iterable\n",
    "# from sklearn import linear_model\n",
    "#from jupytercards import display_flashcards\n",
    "#from pygit2 import Repository\n",
    "#from jupyterquiz import display_quiz\n",
    "\n",
    "print('Versionen der verwendeten python-Module: ')\n",
    "print('numpy', np.__version__)\n",
    "print('matplotlib', matplotlib.__version__)\n",
    "print('pandas', pd.__version__)\n",
    "print('datetime', dt)\n",
    "print('seaborn', sns.__version__)\n",
    "print('find_executable',find_executable)\n",
    "print('cycler',cycler)"
   ]
  },
  {
   "cell_type": "markdown",
   "id": "c539d3fa",
   "metadata": {},
   "source": [
    "# Klimawirkung und Ressourceneffizienz "
   ]
  },
  {
   "cell_type": "code",
   "execution_count": null,
   "id": "83ea587c",
   "metadata": {},
   "outputs": [],
   "source": []
  },
  {
   "cell_type": "code",
   "execution_count": null,
   "id": "8072ccc7",
   "metadata": {},
   "outputs": [],
   "source": []
  },
  {
   "cell_type": "code",
   "execution_count": null,
   "id": "11341f79",
   "metadata": {},
   "outputs": [],
   "source": []
  },
  {
   "cell_type": "markdown",
   "id": "59d96cec",
   "metadata": {},
   "source": [
    "# Messungen durchführen und zu Jahreslastprofilen ergänzen"
   ]
  },
  {
   "cell_type": "markdown",
   "id": "c0110303",
   "metadata": {},
   "source": [
    "Art: Kabelstaubsauger Siemens <br> Typ: VS06A111 <br> Name des Geräts: synchropower <br> Inhalt des Typenschilds oder des Datenblatts: Spannung = 220-240V, Frequenz = 50/60Hz, Leistung = 600W"
   ]
  },
  {
   "cell_type": "code",
   "execution_count": 302,
   "id": "eb8bbee2",
   "metadata": {},
   "outputs": [],
   "source": [
    "# Hier wird die erste Messung gezeigt (Messung über ca. 25 min, Saugfläche:  \n",
    "# Der Prüfling sollte sich gezielt keine Gedanken machen über die Effizienz des Systems beim Saugvorgang!\n",
    "messung1 = 'https://raw.githubusercontent.com/morlokle/Abgabe/main/Daten_Siemens_Dauerlinie.csv'\n",
    "messung1 = pd.read_csv(messung1,delimiter = ',', decimal= '.')"
   ]
  },
  {
   "cell_type": "code",
   "execution_count": 305,
   "id": "0bb6fb40",
   "metadata": {},
   "outputs": [],
   "source": [
    "# da Datum als object erkannt wird Konvertierung zu datetime\n",
    "messung1['Aufnahmezeit'] = messung1.Aufnahmezeit.apply(#\n",
    "    lambda x: #\n",
    "    dt.datetime.strptime(x, \"%d.%m.%Y %H:%M\"))"
   ]
  },
  {
   "cell_type": "code",
   "execution_count": 315,
   "id": "8a5d1c8a",
   "metadata": {},
   "outputs": [
    {
     "name": "stdout",
     "output_type": "stream",
     "text": [
      "          Aufnahmezeit  Stromstärke (A)  Wirkleistung (W)  Scheinleistung (W)\n",
      "0  2022-10-27 14:04:00            0.000          0.000000              0.0000\n",
      "1  2022-10-27 14:05:00            0.983         61.707825            228.5475\n",
      "2  2022-10-27 14:06:00            2.911        654.526706            674.7698\n",
      "3  2022-10-27 14:07:00            2.884        648.735612            668.7996\n",
      "4  2022-10-27 14:08:00            2.867        645.189680            665.1440\n",
      "5  2022-10-27 14:09:00            2.855        643.043070            662.9310\n",
      "6  2022-10-27 14:10:00            2.841        639.889794            659.6802\n",
      "7  2022-10-27 14:11:00            2.623        529.198119            608.2737\n",
      "8  2022-10-27 14:12:00            2.843        639.237178            659.0074\n",
      "9  2022-10-27 14:13:00            2.830        636.314180            655.9940\n",
      "10 2022-10-27 14:14:00            2.808        631.639944            651.1752\n",
      "11 2022-10-27 14:15:00            2.838        638.388234            658.1322\n",
      "12 2022-10-27 14:16:00            2.831        635.989812            655.6596\n",
      "13 2022-10-27 14:17:00            2.832        636.489168            656.1744\n",
      "14 2022-10-27 14:18:00            2.835        637.988400            657.7200\n",
      "15 2022-10-27 14:19:00            2.829        636.089334            655.7622\n",
      "16 2022-10-27 14:20:00            2.822        634.515412            654.1396\n",
      "17 2022-10-27 14:21:00            2.823        634.740258            654.3714\n",
      "18 2022-10-27 14:22:00            2.829        636.638160            656.3280\n",
      "19 2022-10-27 14:23:00            2.641        502.423840            612.7120\n",
      "20 2022-10-27 14:24:00            2.480        402.925600            575.6080\n",
      "21 2022-10-27 14:25:00            2.496        405.699840            579.5712\n",
      "22 2022-10-27 14:26:00            1.999        241.263308            463.9679\n",
      "23 2022-10-27 14:27:00            2.774        572.034862            642.7358\n",
      "24 2022-10-27 14:28:00            2.852        640.154216            659.9528\n",
      "25 2022-10-27 14:29:00            2.840        639.113600            658.8800\n",
      "26 2022-10-27 14:30:00            2.801        618.138685            650.6723\n",
      "27 2022-10-27 14:31:00            0.001          0.000000              0.2336\n"
     ]
    }
   ],
   "source": [
    "print(messung1)"
   ]
  },
  {
   "cell_type": "markdown",
   "id": "a2b65b16",
   "metadata": {},
   "source": [
    "**Beobachtungen und Auffälligkeiten:** <br> \n",
    "- Da der Energielogger nur minütliche Werte ausgibt, muss ein besonderes Augenmerk auf die erste und die letzte Minute der Messung gelegt werden und diese ggf. vernachlässigt werden. Außerdem ist aufallend, dass die Leistung des Staubsaugers mehr oder weniger in den Minuten 2-19 konstant zwischen 655-630 W schwankt und darin nur ein einzelner Ausreiser mit ca. 523 W liegt. Eine Abweichung ist jedoch zwischen der 19-23 Minute zu erkennen in welchen der Messende den Teppich und das Sofa in dem Raum gemessen hat und deswegen die Stufe am Staubsauger wechseln musste."
   ]
  },
  {
   "cell_type": "code",
   "execution_count": 311,
   "id": "e48955f2",
   "metadata": {},
   "outputs": [],
   "source": [
    "# Hier wird die zweite Messung gezeigt (Messung über ca. 20 min, Saugfläche:  \n",
    "# Prüfling hat hier gezielt durchgehend auf der zweiten Stufe des Staubsaugers gesaugt!\n",
    "messung2 = 'https://raw.githubusercontent.com/morlokle/Abgabe/main/18.11.22_20MinutenStufe2%20(1).csv'\n",
    "messung2 = pd.read_csv(messung2,delimiter = ';', decimal= ',')"
   ]
  },
  {
   "cell_type": "code",
   "execution_count": 312,
   "id": "71cec6ff",
   "metadata": {},
   "outputs": [],
   "source": [
    "# da Datum als object erkannt wird Konvertierung zu datetime\n",
    "messung2['Aufnahmezeit'] = messung2.Aufnahmezeit.apply(#\n",
    "    lambda x: #\n",
    "    dt.datetime.strptime(x,\"%m.%d.%Y %H:%M\"))"
   ]
  },
  {
   "cell_type": "code",
   "execution_count": 314,
   "id": "d2e6fae0",
   "metadata": {},
   "outputs": [
    {
     "name": "stdout",
     "output_type": "stream",
     "text": [
      "          Aufnahmezeit  Stromstärke (A)  Wirkleistung (W)  Scheinleistung (W)\n",
      "0  2022-11-18 18:20:00            0.880         32.848640            205.3040\n",
      "1  2022-11-18 18:21:00            2.661        427.441752            619.4808\n",
      "2  2022-11-18 18:22:00            2.599        417.123906            604.5274\n",
      "3  2022-11-18 18:23:00            2.573        413.306136            598.9944\n",
      "4  2022-11-18 18:24:00            2.567        412.342344            597.5976\n",
      "5  2022-11-18 18:25:00            2.557        411.088890            595.7810\n",
      "6  2022-11-18 18:26:00            2.556        410.928120            595.5480\n",
      "7  2022-11-18 18:27:00            2.529        406.412829            589.0041\n",
      "8  2022-11-18 18:28:00            2.549        410.154492            594.4268\n",
      "9  2022-11-18 18:29:00            2.562        412.423074            597.7146\n",
      "10 2022-11-18 18:30:00            2.558        411.426162            596.2698\n",
      "11 2022-11-18 18:31:00            2.564        411.506616            596.3864\n",
      "12 2022-11-18 18:32:00            2.558        410.720154            595.2466\n",
      "13 2022-11-18 18:33:00            2.547        408.953961            592.6869\n",
      "14 2022-11-18 18:34:00            2.523        404.926362            586.8498\n",
      "15 2022-11-18 18:35:00            2.540        407.830020            591.0580\n",
      "16 2022-11-18 18:36:00            2.506        402.197964            582.8956\n",
      "17 2022-11-18 18:37:00            2.547        408.426732            591.9228\n",
      "18 2022-11-18 18:38:00            2.513        403.148025            584.2725\n",
      "19 2022-11-18 18:39:00            2.530        406.049820            588.4780\n",
      "20 2022-11-18 18:40:00            2.532        406.545516            589.1964\n",
      "21 2022-11-18 18:41:00            1.065         67.056660            248.3580\n"
     ]
    }
   ],
   "source": [
    "print(messung2)"
   ]
  },
  {
   "cell_type": "markdown",
   "id": "24ff5d0c",
   "metadata": {},
   "source": [
    "**Beobachtungen und Auffälligkeiten:** <br>\n",
    "- Auch hier gibt des Energielogger wieder nur minütliche Werte aus. Deswegen kann die die erste und die letzte Minute der Messung vernachlässigt werden. Das Gesamtssystem schwankt zwischen einem Maximum von 427 W und einem Minimum von 402 Watt. Es ist aufällig, dass das Maximum mit der ersten Messung erreicht wird und anschließend das Leistungsniveau abnimmt. Evtl. muss der Staubsauger erst auf eine gewisse Betriebstemperatur kommen und benötigt so mehr Leistung zu Beginn der Messung."
   ]
  },
  {
   "cell_type": "code",
   "execution_count": null,
   "id": "ecfd110e",
   "metadata": {},
   "outputs": [],
   "source": [
    "#Zeit für Jahreslastprofil Messung 1\n",
    "Tage1 = 2 # Tage an denen gesaugt wird\n",
    "Wochen1 = 52 # Anzahl an Wochen im Jahr\n",
    "Jahresfaktor1 = Tage1*Wochen1\n",
    "print(\"Jahresfaktor: \",Jahresfaktor1)\n"
   ]
  },
  {
   "cell_type": "code",
   "execution_count": null,
   "id": "2565dc4f",
   "metadata": {},
   "outputs": [],
   "source": [
    "messung1['Jahresprofil1'] = "
   ]
  },
  {
   "cell_type": "code",
   "execution_count": null,
   "id": "b1efefd2",
   "metadata": {},
   "outputs": [],
   "source": []
  },
  {
   "cell_type": "code",
   "execution_count": null,
   "id": "73c3829a",
   "metadata": {},
   "outputs": [],
   "source": [
    "#Zeit für Jahreslastprofil Messung 2\n",
    "Tage1 = 1 # Tage an denen gesaugt wird\n",
    "Wochen1 = 52 # Anzahl an Wochen im Jahr\n",
    "Jahresfaktor2 = Tage1*Wochen1\n",
    "print(\"Jahresfaktor: \",Jahresfaktor2)\n",
    "\n",
    "Sum2 = messung2.loc['2022-11-18 18:21:00 :2022-11-18 18:40:00 ', 'Active Power [W]']\n",
    "print(Sum2)"
   ]
  },
  {
   "cell_type": "markdown",
   "id": "c31d65ab",
   "metadata": {},
   "source": [
    "# Maßnahmen zur Verbesserung der Klimawirkungen und des Energieverbrauchs evaluieren"
   ]
  },
  {
   "cell_type": "markdown",
   "id": "346071ab",
   "metadata": {},
   "source": [
    "**Einsparmaßnamen im Überblick**\n",
    "1. Dauerhaftes Staubsaugen auf Stufe 2 (2x pro Woche für 20 Minuten)\n",
    "2. Nutzung des erneuerbaren PV-Stroms der eigenen PV-Anlage; Staubsaugen zu bestimmter Uhrzeit (1x pro Woche um 12 Uhr)\n",
    "3. Einbau einer Anzeige über Füllstand des Staubsaugerbeutels: Geregelter Austausch bei Füllstand von 80% \n",
    "4. Austausch des Messgerätes durch einen neuen, effizienteren Staubsauger"
   ]
  },
  {
   "cell_type": "markdown",
   "id": "c1193d64",
   "metadata": {},
   "source": [
    "## Maßnahme 1: Staubsaugen auf Stufe 2 "
   ]
  },
  {
   "cell_type": "markdown",
   "id": "713d5a48",
   "metadata": {},
   "source": []
  },
  {
   "cell_type": "code",
   "execution_count": null,
   "id": "5e6c16c0",
   "metadata": {},
   "outputs": [],
   "source": []
  },
  {
   "cell_type": "code",
   "execution_count": null,
   "id": "88e49018",
   "metadata": {},
   "outputs": [],
   "source": []
  },
  {
   "cell_type": "code",
   "execution_count": null,
   "id": "a1595113",
   "metadata": {},
   "outputs": [],
   "source": []
  },
  {
   "cell_type": "code",
   "execution_count": null,
   "id": "d68174bf",
   "metadata": {},
   "outputs": [],
   "source": []
  },
  {
   "cell_type": "markdown",
   "id": "960eb753",
   "metadata": {},
   "source": [
    "## Maßnahme 2: Staubsaugen zu bestimmter Uhrzeit (12 Uhr Mittags)"
   ]
  },
  {
   "cell_type": "code",
   "execution_count": null,
   "id": "86912f4d",
   "metadata": {},
   "outputs": [],
   "source": []
  },
  {
   "cell_type": "code",
   "execution_count": null,
   "id": "9284ccbb",
   "metadata": {},
   "outputs": [],
   "source": []
  },
  {
   "cell_type": "code",
   "execution_count": null,
   "id": "c83fe637",
   "metadata": {},
   "outputs": [],
   "source": []
  },
  {
   "cell_type": "markdown",
   "id": "af150a11",
   "metadata": {},
   "source": [
    "## Maßnahme 3: Einbau einer Anzeige über Füllstand des Staubsaugerbeutels"
   ]
  },
  {
   "cell_type": "code",
   "execution_count": null,
   "id": "05470e4d",
   "metadata": {},
   "outputs": [],
   "source": []
  },
  {
   "cell_type": "code",
   "execution_count": null,
   "id": "1ce279c8",
   "metadata": {},
   "outputs": [],
   "source": []
  },
  {
   "cell_type": "code",
   "execution_count": null,
   "id": "6de0b43a",
   "metadata": {},
   "outputs": [],
   "source": []
  },
  {
   "cell_type": "code",
   "execution_count": null,
   "id": "43da50fc",
   "metadata": {},
   "outputs": [],
   "source": []
  },
  {
   "cell_type": "markdown",
   "id": "a1a2c08a",
   "metadata": {},
   "source": [
    "## Maßnahme 4: Austausch des Messgerätes durch einen neuen, effizienteren Staubsauger"
   ]
  },
  {
   "cell_type": "code",
   "execution_count": null,
   "id": "72f03f01",
   "metadata": {},
   "outputs": [],
   "source": []
  },
  {
   "cell_type": "code",
   "execution_count": null,
   "id": "6d56119a",
   "metadata": {},
   "outputs": [],
   "source": []
  },
  {
   "cell_type": "code",
   "execution_count": null,
   "id": "78a27597",
   "metadata": {},
   "outputs": [],
   "source": []
  },
  {
   "cell_type": "markdown",
   "id": "2784b0e8",
   "metadata": {},
   "source": [
    "### Wirtschaftlichkeit der Einsparmethode bewerten"
   ]
  },
  {
   "cell_type": "markdown",
   "id": "cc1d4da5",
   "metadata": {},
   "source": [
    "- Die gewählte Einsparmethode ist den Fokus auf den vermehrten Austausch des Staubsaugerbeutels zu legen, sodass der Staubsauger so weniger Luft-Widerstände hat und somit weniger Leistung für die identische Saugleistung benötigt.\n",
    "\n",
    "- Dafür soll in den Staubsauger ein analoger Controller eingebaut werden, welcher mit einer Anzeige ausgestattet ist und darstellt, wie voll der Staubsaugerbeutel ist. \n",
    "- Die Anzeige soll erst von grün auf rot wechseln, wenn 80% des Staubbeutels voll sind. \n",
    "Anschließend soll der Beutel getauscht werden.\n",
    "\n",
    "- Es wird angenommen, dass durch diese Einsparung 20% weniger Leistung und somit weniger Energie zum saugen benötigt wird. \n",
    "> Zur Vereinfachung sind in dieser Rechnung 20% weniger Leistung = 20% weniger Stromkosten die benötigt weden)\n",
    "\n",
    "- Zum Vergleich wird einmal mit Cotroller zur Filterwechselanzeige gerechnet und einmal ohne, um die Investition bewerten zu können"
   ]
  },
  {
   "cell_type": "code",
   "execution_count": null,
   "id": "3478a309",
   "metadata": {},
   "outputs": [],
   "source": []
  },
  {
   "cell_type": "markdown",
   "id": "ce2a198a",
   "metadata": {},
   "source": [
    "#### Kapitalgebundene Kosten\n",
    "- **kapitalgebundene Kosten**: Analoger Controller für 40 Euro\n",
    "> Zum Glück kennt sich der Cousin von Simon Kammerer mit Staubsaugercontrollern aus und erklärt sich bereit seinen Sonntag für den Umbau zu opfern. Ihm machen Bastelarbeiten Spaß und deswegen entfallen Personalkosten die für den komplizierten Umbau von 3 Stunden nötig wären."
   ]
  },
  {
   "cell_type": "code",
   "execution_count": null,
   "id": "46d6d8b1",
   "metadata": {},
   "outputs": [],
   "source": [
    "invest = -40 # Euro"
   ]
  },
  {
   "cell_type": "markdown",
   "id": "d32d6729",
   "metadata": {},
   "source": [
    "Benötigte Stromkosten 0,45ct/kWh mit Stromeinsatz aus Messung2 pro Saugvorgang (Staubsaugen über 20min auf Stufe2) <br> <br> 0,45ct/kWh * 0,2598 kWh (benötigte Energie pro Saugvorgang)\n",
    "- wir rechnen somit mit zwei Varianten: V1: 0,1168920 €/Saugvorgang (ohne Anzeige) V2: 0,09351366 €/Saugvorgang (mit Anzeige)"
   ]
  },
  {
   "cell_type": "markdown",
   "id": "71a7d2fd",
   "metadata": {},
   "source": [
    "**Nutzungsdauer des Controllers = Nutzungsdauer des Staubsauger**"
   ]
  },
  {
   "cell_type": "code",
   "execution_count": null,
   "id": "312379d4",
   "metadata": {},
   "outputs": [],
   "source": [
    "TN = 5 # Jahre "
   ]
  },
  {
   "cell_type": "markdown",
   "id": "f6dd785e",
   "metadata": {},
   "source": [
    "- **bedarfsgebundene Kosten - hier Erlöse**: \n",
    "- aus Lastprofilen ergibt sich eine potenzielle Einsparung von 52 kWh im Jahr, Strompreis 45 ct/kWh, Saughäufigkeit = 52*2 # 2x pro Woche"
   ]
  },
  {
   "cell_type": "code",
   "execution_count": 374,
   "id": "b88ce991",
   "metadata": {},
   "outputs": [
    {
     "name": "stdout",
     "output_type": "stream",
     "text": [
      "bedarfsgebundene Erlöse im ersten Jahr: 23.400000000000002 EUR/a\n"
     ]
    }
   ],
   "source": [
    "energysavings = 52 # kWh\n",
    "electricityprice = 0.45 # Euro\n",
    "usage_cost = energysavings*electricityprice\n",
    "print('bedarfsgebundene Erlöse im ersten Jahr: '+str(usage_cost)+' EUR/a')"
   ]
  },
  {
   "cell_type": "markdown",
   "id": "6322a8e2",
   "metadata": {},
   "source": [
    "- **betriebsgebundene Kosten**: \n",
    "  - Anzeigen-Wartung - entfällt, sehr robustes Einbauteil welches nicht überarbeitet werden muss\n",
    "  - Betrieb - entfällt, da die Anzeige analog ist\n",
    "  - Sicherheit - keine relevantes Sicherheitsrisiko durch Anzeige"
   ]
  },
  {
   "cell_type": "code",
   "execution_count": 377,
   "id": "83472ac2",
   "metadata": {},
   "outputs": [
    {
     "name": "stdout",
     "output_type": "stream",
     "text": [
      "betriebsgebundene Kosten :0 EUR\n"
     ]
    }
   ],
   "source": [
    "maintenance_cost = 0\n",
    "print('betriebsgebundene Kosten :'+str(maintenance_cost)+' EUR')"
   ]
  },
  {
   "cell_type": "markdown",
   "id": "0885dc91",
   "metadata": {},
   "source": [
    "- sonstige Kosten: Versicherung und allgemeine Verwaltungskosten entfallen"
   ]
  },
  {
   "cell_type": "code",
   "execution_count": 378,
   "id": "fedf7945",
   "metadata": {},
   "outputs": [
    {
     "name": "stdout",
     "output_type": "stream",
     "text": [
      "sonstige Kosten :0 EUR\n"
     ]
    }
   ],
   "source": [
    "other_cost = 0\n",
    "print('sonstige Kosten :'+str(other_cost)+' EUR')"
   ]
  },
  {
   "cell_type": "markdown",
   "id": "50ae8102",
   "metadata": {},
   "source": [
    "Betrachtungszeitraum  𝑇  2022/2023:\n",
    "\n",
    "15 Jahre"
   ]
  },
  {
   "cell_type": "code",
   "execution_count": 383,
   "id": "ea457b73",
   "metadata": {},
   "outputs": [],
   "source": [
    "T = 15 # a"
   ]
  },
  {
   "cell_type": "code",
   "execution_count": 384,
   "id": "035c9488",
   "metadata": {},
   "outputs": [
    {
     "name": "stdout",
     "output_type": "stream",
     "text": [
      "Zinsfaktor im Projekt: 1.05\n"
     ]
    }
   ],
   "source": [
    "p = 0.05 # Zinsfuß von 5 %\n",
    "q = 1+p\n",
    "print('Zinsfaktor im Projekt: '+str(q))"
   ]
  },
  {
   "cell_type": "code",
   "execution_count": 385,
   "id": "556a6fb3",
   "metadata": {},
   "outputs": [
    {
     "name": "stdout",
     "output_type": "stream",
     "text": [
      "Preisänderungsfaktor Anzeige: 1\n"
     ]
    }
   ],
   "source": [
    "r = 1 # Analoge Staubsaugeranzeigen bleiben im Preis konstant\n",
    "print('Preisänderungsfaktor Anzeige: '+str(r))"
   ]
  },
  {
   "cell_type": "code",
   "execution_count": 387,
   "id": "3ed97430",
   "metadata": {},
   "outputs": [
    {
     "name": "stdout",
     "output_type": "stream",
     "text": [
      "Der Annuitätsfaktor beträgt 0.0963422876092444\n"
     ]
    }
   ],
   "source": [
    "a = (q**T)*(q-1)/((q**T)-1)\n",
    "print('Der Annuitätsfaktor beträgt '+str(a))"
   ]
  },
  {
   "cell_type": "code",
   "execution_count": null,
   "id": "cf3ba089",
   "metadata": {},
   "outputs": [],
   "source": []
  },
  {
   "cell_type": "code",
   "execution_count": null,
   "id": "176ce258",
   "metadata": {},
   "outputs": [],
   "source": []
  },
  {
   "cell_type": "code",
   "execution_count": null,
   "id": "9b09c81c",
   "metadata": {},
   "outputs": [],
   "source": []
  },
  {
   "cell_type": "markdown",
   "id": "b1a6883d",
   "metadata": {},
   "source": [
    "Fazit: Durch die Wirtschaftlichkeitsberechnung. \n",
    "    \n",
    "Ob Energie effizienter eingesetzt wird, kann erst durch den genauen Materialverbrauch und Energieeinsatz ermittelt werden, \n",
    "der für die Herstellung eines Staubsaugerbeutels \"Typ Siemens synchropower\" nötig ist. Da durch den vermehrten Austausch der \n",
    "Staubbeutel, wird zwar mit weniger Staub störungsfreier gesaugt und somit weniger Leistung für den Saugvorgang benötigt, \n",
    "jedoch kann es dazu kommen das mehr von diesen Beuteln verbraucht werden und die Herstellung dieser besonders Energieaufwänig ist \n",
    "und somit doch nicht weniger Energie eingesetzt wurde. (vgl. reverse Effekt)\n",
    "\n",
    "Da die Datenlage für den Energie- und Materialeinsatz eines Staubbeutels in der Produktion eher undurchsichtig ist, \n",
    "muss bei weiterer Behandlung dieser Thematik...... Für den Rahmen einer Wirtschaftlichkeitsbetrachtung der Effizienzmaßnahme einer Anzeige für den Füllstand des Staubbeutels ist jedoch zu......"
   ]
  },
  {
   "cell_type": "code",
   "execution_count": null,
   "id": "cf8a46b1",
   "metadata": {},
   "outputs": [],
   "source": []
  }
 ],
 "metadata": {
  "celltoolbar": "Slideshow",
  "kernelspec": {
   "display_name": "Python 3 (ipykernel)",
   "language": "python",
   "name": "python3"
  },
  "language_info": {
   "codemirror_mode": {
    "name": "ipython",
    "version": 3
   },
   "file_extension": ".py",
   "mimetype": "text/x-python",
   "name": "python",
   "nbconvert_exporter": "python",
   "pygments_lexer": "ipython3",
   "version": "3.9.7"
  }
 },
 "nbformat": 4,
 "nbformat_minor": 5
}
